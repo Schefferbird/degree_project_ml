{
 "cells": [
  {
   "cell_type": "markdown",
   "metadata": {},
   "source": [
    "### Lemmatize in sklearn pipeline"
   ]
  },
  {
   "cell_type": "code",
   "execution_count": 1,
   "metadata": {},
   "outputs": [],
   "source": [
    "import nltk\n",
    "#nltk.download('wordnet')\n",
    "#nltk.download('punkt')\n",
    "from nltk.stem import WordNetLemmatizer \n",
    "from nltk import word_tokenize, sent_tokenize\n",
    "\n",
    "# Lemmasolution https://scikit-learn.org/stable/modules/feature_extraction.html#stop-words\n",
    "class LemmaTokenizer:\n",
    "    def __init__(self):\n",
    "        self.wnl = WordNetLemmatizer()\n",
    "    def __call__(self, doc):\n",
    "        return [self.wnl.lemmatize(t) for t in word_tokenize(doc)]"
   ]
  },
  {
   "cell_type": "code",
   "execution_count": 3,
   "metadata": {},
   "outputs": [],
   "source": [
    "\n",
    "def show_distribution(y):\n",
    "    \n",
    "    label_1 = 0\n",
    "    label_2 = 0\n",
    "    label_3 = 0\n",
    "\n",
    "    for num in y:\n",
    "        if num == 1:\n",
    "            label_1 += 1\n",
    "        if num == 2:\n",
    "            label_2 += 1\n",
    "        if num == 3:\n",
    "            label_3 += 1\n",
    "            \n",
    "    print(f\"1: {label_1}, 2: {label_2}, 3: {label_3}\")\n",
    "            "
   ]
  }
 ],
 "metadata": {
  "kernelspec": {
   "display_name": "Python 3",
   "language": "python",
   "name": "python3"
  },
  "language_info": {
   "codemirror_mode": {
    "name": "ipython",
    "version": 3
   },
   "file_extension": ".py",
   "mimetype": "text/x-python",
   "name": "python",
   "nbconvert_exporter": "python",
   "pygments_lexer": "ipython3",
   "version": "3.7.4"
  }
 },
 "nbformat": 4,
 "nbformat_minor": 4
}
