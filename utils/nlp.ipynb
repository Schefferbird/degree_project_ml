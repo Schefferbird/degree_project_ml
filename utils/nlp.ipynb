{
 "cells": [
  {
   "cell_type": "code",
   "execution_count": 1,
   "metadata": {},
   "outputs": [],
   "source": [
    "import nltk\n",
    "#nltk.download('wordnet')\n",
    "#nltk.download('punkt')\n",
    "from nltk import pos_tag\n",
    "from nltk.corpus import stopwords\n",
    "from nltk.tokenize import sent_tokenize\n",
    "from nltk import word_tokenize, sent_tokenize\n",
    "from nltk.stem import PorterStemmer\n",
    "from nltk import ne_chunk"
   ]
  },
  {
   "cell_type": "markdown",
   "metadata": {},
   "source": [
    "### imports for StanfordNLP pos tagger"
   ]
  },
  {
   "cell_type": "code",
   "execution_count": 2,
   "metadata": {},
   "outputs": [],
   "source": [
    "#!pip install stanfordnlp\n",
    "import stanfordnlp\n",
    "#stanfordnlp.download('en')           # This downloads the English models for the neural pipeline"
   ]
  },
  {
   "cell_type": "markdown",
   "metadata": {},
   "source": [
    "### Stanford pos DataFrame Converter"
   ]
  },
  {
   "cell_type": "code",
   "execution_count": 3,
   "metadata": {},
   "outputs": [],
   "source": [
    "import pandas as pd\n",
    "\n",
    "# Create a dataframe with headline words and their pos tags. \n",
    "# Takes a stanfordnlp pipline\n",
    "def pos_extract(sentence_nlp):\n",
    "    text = {'word':[], 'pos':[]}\n",
    "    for sentence in sentence_nlp.sentences:\n",
    "        for word in sentence.words:\n",
    "            text['word'].append(word.text)\n",
    "            text['pos'].append(word.pos)\n",
    "    return pd.DataFrame(text)"
   ]
  },
  {
   "cell_type": "markdown",
   "metadata": {},
   "source": [
    "### Query Creator"
   ]
  },
  {
   "cell_type": "code",
   "execution_count": 4,
   "metadata": {},
   "outputs": [],
   "source": [
    "# Create a query list\n",
    "# Takes a pos tag dataframe and a list with valuable tags\n",
    "def create_query(pos, tags):\n",
    "    q = []                             # List to store queries\n",
    "    for i in range(0,len(pos)):\n",
    "        if pos['pos'][i] in tags:\n",
    "            q.append(pos['word'][i])\n",
    "    return q"
   ]
  },
  {
   "cell_type": "code",
   "execution_count": 5,
   "metadata": {},
   "outputs": [],
   "source": [
    "valuable_tags = ['NN''NNP','CD']    # POS list with tags to keep\n",
    "\n",
    "def query_builder(headline):\n",
    "\n",
    "    nlp = stanfordnlp.Pipeline(processors = \"tokenize,lemma,pos\")\n",
    "\n",
    "    #text_nlp = nlp(text)\n",
    "    headline_pos = nlp(headline)\n",
    "    \n",
    "    pos = pos_extract(headline_pos)\n",
    "    \n",
    "    return create_query(pos, valuable_tags)\n"
   ]
  }
 ],
 "metadata": {
  "kernelspec": {
   "display_name": "Python 3",
   "language": "python",
   "name": "python3"
  },
  "language_info": {
   "codemirror_mode": {
    "name": "ipython",
    "version": 3
   },
   "file_extension": ".py",
   "mimetype": "text/x-python",
   "name": "python",
   "nbconvert_exporter": "python",
   "pygments_lexer": "ipython3",
   "version": "3.7.4"
  }
 },
 "nbformat": 4,
 "nbformat_minor": 4
}
