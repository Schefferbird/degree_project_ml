{
 "cells": [
  {
   "cell_type": "markdown",
   "metadata": {
    "jupyter": {
     "outputs_hidden": false
    }
   },
   "source": [
    "# Text classification / Supervised / SVM TD_IDF"
   ]
  },
  {
   "cell_type": "code",
   "execution_count": 301,
   "metadata": {
    "collapsed": false,
    "jupyter": {
     "outputs_hidden": false
    }
   },
   "outputs": [
    {
     "name": "stdout",
     "output_type": "stream",
     "text": [
      "{'_ipynb_checkpoints': 0, 'biology': 1, 'geography': 2, 'physics': 3}\n"
     ]
    }
   ],
   "source": [
    "import os\n",
    "import sys\n",
    "\n",
    "BASE_DIR = ''\n",
    "SUBJECT_DIR = os.path.join(BASE_DIR, 'data/subjects') # Collect path to subjects directory\n",
    "\n",
    "texts = []                                     # list of text samples\n",
    "labels_index = {}                              # dictionary, label name to numeric id\n",
    "labels = []                                    # list of label ids\n",
    "for name in sorted(os.listdir(SUBJECT_DIR)):   # Go through all subdirectories \n",
    "    path = os.path.join(SUBJECT_DIR, name)     # Collect each path to subdir\n",
    "    if os.path.isdir(path):\n",
    "        label_id = len(labels_index)\n",
    "        labels_index[name] = label_id          # Collect id to each sub directory/label.\n",
    "        for fname in sorted(os.listdir(path)):\n",
    "            if fname.endswith(\".txt\"):\n",
    "                fpath = os.path.join(path, fname)\n",
    "                args = {} if sys.version_info < (3,) else {'encoding': 'latin-1'}\n",
    "                with open(fpath, **args) as f:\n",
    "                    t = f.read()\n",
    "                    t = t[0:]\n",
    "                    texts.append(t)            # Append each text from file to text list\n",
    "                labels.append(label_id)        # Append each label (1-3) to labels list\n",
    "\n",
    "print(labels_index)"
   ]
  },
  {
   "cell_type": "code",
   "execution_count": 302,
   "metadata": {
    "collapsed": false,
    "jupyter": {
     "outputs_hidden": false
    }
   },
   "outputs": [],
   "source": [
    "# run nlp_tc.ipynb for LemmaTokenizer\n",
    "%run utils/nlp_tc.ipynb"
   ]
  },
  {
   "cell_type": "code",
   "execution_count": 303,
   "metadata": {
    "collapsed": false,
    "jupyter": {
     "outputs_hidden": false
    }
   },
   "outputs": [],
   "source": [
    "import pandas as pd\n",
    "\n",
    "# Make text list and labels list into pandas DataFrame\n",
    "data = {}\n",
    "data['text'] = texts\n",
    "data['label'] = labels\n",
    "\n",
    "df = pd.DataFrame(data)\n",
    "\n",
    "X = df['text']\n",
    "y = df['label']"
   ]
  },
  {
   "cell_type": "code",
   "execution_count": 322,
   "metadata": {
    "collapsed": false,
    "jupyter": {
     "outputs_hidden": false
    }
   },
   "outputs": [
    {
     "name": "stdout",
     "output_type": "stream",
     "text": [
      "1: 1100, 2: 276, 3: 1126\n"
     ]
    }
   ],
   "source": [
    "show_distribution(y)"
   ]
  },
  {
   "cell_type": "code",
   "execution_count": 305,
   "metadata": {
    "collapsed": false,
    "jupyter": {
     "outputs_hidden": false
    }
   },
   "outputs": [
    {
     "name": "stdout",
     "output_type": "stream",
     "text": [
      "0       What are the major functions of male accessory...\n",
      "1       EXERCISES\\n\\n1. Bacteria cannot be seen with t...\n",
      "2       product. The processes include separation and ...\n",
      "3       EXERCISES\\n\\n1. Can you list 10 recombinant pr...\n",
      "4       SUMMARY\\n\\nBiotechnology has given to humans s...\n",
      "                              ...                        \n",
      "2497    backwards. An image is thus a point-to-point\\n...\n",
      "2498    We have derived here the mirror equation, Eq. ...\n",
      "2499    Example 9.1 Suppose that the lower half of the...\n",
      "2500    (i) The incident ray, the refracted ray and th...\n",
      "2501    The refraction of light through the atmosphere...\n",
      "Name: text, Length: 2502, dtype: object\n"
     ]
    }
   ],
   "source": [
    "print(X)"
   ]
  },
  {
   "cell_type": "code",
   "execution_count": 306,
   "metadata": {
    "collapsed": false,
    "jupyter": {
     "outputs_hidden": false
    }
   },
   "outputs": [
    {
     "name": "stdout",
     "output_type": "stream",
     "text": [
      "0       1\n",
      "1       1\n",
      "2       1\n",
      "3       1\n",
      "4       1\n",
      "       ..\n",
      "2497    3\n",
      "2498    3\n",
      "2499    3\n",
      "2500    3\n",
      "2501    3\n",
      "Name: label, Length: 2502, dtype: int64\n"
     ]
    }
   ],
   "source": [
    "print(y)"
   ]
  },
  {
   "cell_type": "code",
   "execution_count": 307,
   "metadata": {
    "collapsed": false,
    "jupyter": {
     "outputs_hidden": false
    }
   },
   "outputs": [
    {
     "name": "stdout",
     "output_type": "stream",
     "text": [
      "Found 2502 texts.\n"
     ]
    }
   ],
   "source": [
    "print('Found %s texts.' % len(texts))"
   ]
  },
  {
   "cell_type": "markdown",
   "metadata": {},
   "source": [
    "### Make pipeline"
   ]
  },
  {
   "cell_type": "code",
   "execution_count": 308,
   "metadata": {},
   "outputs": [],
   "source": [
    "from sklearn.feature_extraction.text import CountVectorizer, TfidfTransformer\n",
    "from sklearn.pipeline import Pipeline\n",
    "from sklearn.svm import LinearSVC\n",
    "\n",
    "MAX_NUM_WORDS = 4000     # Build a vocabulary which only consider the top features of the corpus\n",
    "\n",
    "# Create our TC pipline with a base of TfIdf and liblinear SVM with a default to ovr (one-vs-the-rest) scheme.\n",
    "model = Pipeline([\n",
    "    # Make text to bag-of-words\n",
    "    ('vect', CountVectorizer(tokenizer=LemmaTokenizer(), max_features=MAX_NUM_WORDS)),\n",
    "    # Transform word count to frequency\n",
    "    ('tfidf', TfidfTransformer(sublinear_tf=True)),     \n",
    "    ('clf',LinearSVC(random_state=42, tol=1e-3, max_iter=50))\n",
    "])"
   ]
  },
  {
   "cell_type": "markdown",
   "metadata": {},
   "source": [
    "### Train Test Split"
   ]
  },
  {
   "cell_type": "code",
   "execution_count": 309,
   "metadata": {},
   "outputs": [],
   "source": [
    "from sklearn.model_selection import train_test_split\n",
    "\n",
    "VALIDATION_SPLIT = 0.21\n",
    "\n",
    "# Split dataset into test and training set\n",
    "X_train, X_test, y_train, y_test = train_test_split(X, y, test_size=VALIDATION_SPLIT, random_state=42)"
   ]
  },
  {
   "cell_type": "markdown",
   "metadata": {},
   "source": [
    "### Stratified KFold crossvalidation (best fit for the small balanced Subject corpus)"
   ]
  },
  {
   "cell_type": "code",
   "execution_count": 31,
   "metadata": {},
   "outputs": [],
   "source": [
    "from sklearn.model_selection import StratifiedKFold"
   ]
  },
  {
   "cell_type": "code",
   "execution_count": 294,
   "metadata": {},
   "outputs": [],
   "source": [
    "skf = StratifiedKFold(n_splits=10, shuffle=True, random_state=42)\n",
    "#print(skf)\n",
    "\n",
    "for train_index, test_index in skf.split(X, y):\n",
    "    #print(\"TRAIN:\", train_index, \"TEST:\", test_index)\n",
    "    # select rows\n",
    "    X_train, X_test = X[train_index], X[test_index]\n",
    "    y_train, y_test = y[train_index], y[test_index]"
   ]
  },
  {
   "cell_type": "markdown",
   "metadata": {},
   "source": [
    "### KFold crossvalidation (best fit for the big unbalanced Subject corpus)"
   ]
  },
  {
   "cell_type": "code",
   "execution_count": 269,
   "metadata": {},
   "outputs": [],
   "source": [
    "from sklearn.model_selection import KFold"
   ]
  },
  {
   "cell_type": "code",
   "execution_count": 334,
   "metadata": {},
   "outputs": [],
   "source": [
    "kfold = KFold(n_splits=10, shuffle=True, random_state=1)\n",
    "# enumerate the splits and summarize the distributions\n",
    "for train_ix, test_ix in kfold.split(X):\n",
    "    # select rows\n",
    "    X_train, X_test = X[train_ix], X[test_ix]\n",
    "    y_train, y_test = y[train_ix], y[test_ix]"
   ]
  },
  {
   "cell_type": "markdown",
   "metadata": {},
   "source": [
    "### Run model"
   ]
  },
  {
   "cell_type": "code",
   "execution_count": 335,
   "metadata": {},
   "outputs": [],
   "source": [
    "# Fit training set from X (text) and y (labels)\n",
    "model.fit(X_train, y_train)\n",
    "\n",
    "# Collect predictions\n",
    "y_pred = model.predict(X_test)"
   ]
  },
  {
   "cell_type": "markdown",
   "metadata": {},
   "source": [
    "### Evaluation"
   ]
  },
  {
   "cell_type": "code",
   "execution_count": 336,
   "metadata": {},
   "outputs": [],
   "source": [
    "from sklearn.metrics import classification_report, accuracy_score, confusion_matrix"
   ]
  },
  {
   "cell_type": "code",
   "execution_count": 337,
   "metadata": {},
   "outputs": [],
   "source": [
    "# Save accurate score from evaluation between prediction and test set\n",
    "acc_model = accuracy_score(y_test, y_pred)\n",
    "# Save classification report with precision, recall, f1-score\n",
    "class_report = classification_report(y_test, y_pred)\n",
    "# Save confusion matrix for model result\n",
    "confusion_matrix = confusion_matrix(y_test, y_pred)"
   ]
  },
  {
   "cell_type": "code",
   "execution_count": 147,
   "metadata": {},
   "outputs": [],
   "source": [
    "#print(model.get_params()) "
   ]
  },
  {
   "cell_type": "code",
   "execution_count": 327,
   "metadata": {},
   "outputs": [],
   "source": [
    "%run utils/heatmap_tc.ipynb"
   ]
  },
  {
   "cell_type": "code",
   "execution_count": 338,
   "metadata": {},
   "outputs": [
    {
     "name": "stdout",
     "output_type": "stream",
     "text": [
      "0.996\n"
     ]
    }
   ],
   "source": [
    "print(acc_model)"
   ]
  },
  {
   "cell_type": "code",
   "execution_count": 339,
   "metadata": {},
   "outputs": [
    {
     "name": "stdout",
     "output_type": "stream",
     "text": [
      "              precision    recall  f1-score   support\n",
      "\n",
      "           1       0.99      1.00      1.00       107\n",
      "           2       1.00      0.97      0.98        32\n",
      "           3       1.00      1.00      1.00       111\n",
      "\n",
      "    accuracy                           1.00       250\n",
      "   macro avg       1.00      0.99      0.99       250\n",
      "weighted avg       1.00      1.00      1.00       250\n",
      "\n"
     ]
    }
   ],
   "source": [
    "print(class_report)"
   ]
  },
  {
   "cell_type": "code",
   "execution_count": 340,
   "metadata": {},
   "outputs": [
    {
     "data": {
      "text/plain": [
       "<Figure size 432x288 with 0 Axes>"
      ]
     },
     "metadata": {},
     "output_type": "display_data"
    },
    {
     "data": {
      "image/png": "[encoded data removed]",
      "text/plain": [
       "<Figure size 432x288 with 2 Axes>"
      ]
     },
     "metadata": {
      "needs_background": "light"
     },
     "output_type": "display_data"
    }
   ],
   "source": [
    "plot_confusion_matrix(confusion_matrix)\n",
    "plt.show()"
   ]
  }
 ],
 "metadata": {
  "kernelspec": {
   "display_name": "Python 3",
   "language": "python",
   "name": "python3"
  },
  "language_info": {
   "codemirror_mode": {
    "name": "ipython",
    "version": 3
   },
   "file_extension": ".py",
   "mimetype": "text/x-python",
   "name": "python",
   "nbconvert_exporter": "python",
   "pygments_lexer": "ipython3",
   "version": "3.7.4"
  }
 },
 "nbformat": 4,
 "nbformat_minor": 4
}
