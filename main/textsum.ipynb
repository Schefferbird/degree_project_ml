{
 "cells": [
  {
   "cell_type": "markdown",
   "metadata": {},
   "source": [
    "### TextSum - nltk frequency algorithm with an automatic query weighting"
   ]
  },
  {
   "cell_type": "code",
   "execution_count": 1,
   "metadata": {},
   "outputs": [],
   "source": [
    "# Make imports and defs avaiable from utils/nlp\n",
    "%run utils/nlp.ipynb"
   ]
  },
  {
   "cell_type": "markdown",
   "metadata": {},
   "source": [
    "### Load Subject Corpus"
   ]
  },
  {
   "cell_type": "code",
   "execution_count": 2,
   "metadata": {},
   "outputs": [],
   "source": [
    "# Run utils/text to enable load_text\n",
    "%run utils/text.ipynb"
   ]
  },
  {
   "cell_type": "code",
   "execution_count": 3,
   "metadata": {},
   "outputs": [],
   "source": [
    "# Load text 1 - 3, where 1 = Galileo, 2 = Mendel, 3 = Order\n",
    "df=load_text(1)\n",
    "\n",
    "text = df['text'][0]\n",
    "headline = df['headline'][0]\n",
    "\n",
    "#print(text)"
   ]
  },
  {
   "cell_type": "code",
   "execution_count": 4,
   "metadata": {},
   "outputs": [],
   "source": [
    "ps = PorterStemmer()\n",
    "#addStop = ['.', ',', '(', ')']\n",
    "\n",
    "SENT_LIMIT = 35\n",
    "THRESH = 1.1\n",
    "\n",
    "def text_sum(target_text, thresh=THRESH, query=[], should_print=False):\n",
    "    \n",
    "    #stopWords = set().union(stopwords.words(\"english\"), addStop)\n",
    "    stopWords = set(stopwords.words(\"english\"))\n",
    "    \n",
    "    word_frequencies = {}           # Dict to hold the word scores\n",
    "    \n",
    "    # Assign word scores\n",
    "    for word in nltk.word_tokenize(target_text): \n",
    "        if word not in stopWords:\n",
    "            word = ps.stem(word)\n",
    "            # Apply frequency score \n",
    "            if word not in word_frequencies.keys():\n",
    "                word_frequencies[word] = 1\n",
    "            else:\n",
    "                word_frequencies[word] += 1\n",
    "    \n",
    "    # Find max value from word_frequencies\n",
    "    max_frequency = max(word_frequencies.values())\n",
    "    \n",
    "    # Normalize the word frequency between 0 and 1 with the difference from max value\n",
    "    for word in word_frequencies.keys():  \n",
    "        word_score = round(word_frequencies[word]/max_frequency, 3)\n",
    "        word_frequencies[word] =  word_score\n",
    "\n",
    "    # Split into a list of sentences\n",
    "    sentence_list = nltk.sent_tokenize(target_text)\n",
    "    sentence_scores = {}            # Dict to hold the sentence scores\n",
    "    \n",
    "    # Assign sentence scores\n",
    "    for sent in sentence_list:  \n",
    "        for word in nltk.word_tokenize(sent.lower()):\n",
    "            word = ps.stem(word)\n",
    "            if word in word_frequencies.keys():\n",
    "                # Limit possible sentence length to SENT_LIMIT\n",
    "                if len(sent.split(' ')) < SENT_LIMIT:\n",
    "                    # Apply word freq score to sentences\n",
    "                    if sent not in sentence_scores.keys():\n",
    "                        sentence_scores[sent] = word_frequencies[word]\n",
    "                        if len(query) != 0:\n",
    "                        # Reward sentence if word from the query is found\n",
    "                            for q in query:\n",
    "                                q = ps.stem(q.lower())\n",
    "                                if q in sent.lower():\n",
    "                                    # Reward sentence\n",
    "                                    question_bonus = round(12/max_frequency, 3)\n",
    "                                    sentence_scores[sent] += question_bonus\n",
    "                        # Punish the sentence if it ends with question mark\n",
    "                        if sent[-1]== '?':\n",
    "                            sentence_scores[sent] -= 10\n",
    "                    else:\n",
    "                        new_score = sentence_scores[sent] + word_frequencies[word]\n",
    "                        sentence_scores[sent] = round(new_score, 3)\n",
    "    \n",
    "    # Sum all sentence values\n",
    "    sumValues = 0\n",
    "    for entry in sentence_scores:\n",
    "        sumValues += sentence_scores[entry]\n",
    "        \n",
    "    # Average score for all sentences from original text\n",
    "    average = round((sumValues / len(sentence_scores)), 3)\n",
    "    \n",
    "    if should_print:\n",
    "        print(average)             # Shows averge score for all sentences\n",
    "        print(' ')\n",
    "\n",
    "        print(sentence_scores)     # Shows score for each sentence\n",
    "        print(' ')\n",
    "    \n",
    "    sentence_count = 0         # Keep track of amount of sentences for future use\n",
    "    summary = ''               # String to collect text summary\n",
    "\n",
    "    # Make sure shorter texts don't vanish\n",
    "    num_sentences = len(sentence_list)\n",
    "   \n",
    "    if num_sentences == 6:\n",
    "        thresh -= 0.1\n",
    "    if num_sentences == 5:\n",
    "        thresh -= 0.2\n",
    "    if num_sentences <= 4:\n",
    "        thresh -= 0.5\n",
    "    \n",
    "    # Collect summary\n",
    "    for sentence in sentence_list:\n",
    "        if sentence in sentence_scores and sentence_scores[sentence] >= average * thresh:\n",
    "            if sentence_count == 0:   # Make sure the text doesn't start with a space\n",
    "                summary += sentence\n",
    "                sentence_count += 1\n",
    "            else:\n",
    "                summary += \" \" + sentence\n",
    "                sentence_count += 1\n",
    "        \n",
    "\n",
    "    # Make contraction when speaking about NE's. Not very frequent, but anyway\n",
    "    clean_summary = clean_contractions(summary)\n",
    "    \n",
    "    return clean_summary"
   ]
  },
  {
   "cell_type": "markdown",
   "metadata": {},
   "source": [
    "### Query creation"
   ]
  },
  {
   "cell_type": "code",
   "execution_count": 5,
   "metadata": {},
   "outputs": [
    {
     "name": "stdout",
     "output_type": "stream",
     "text": [
      "Use device: cpu\n",
      "---\n",
      "Loading: tokenize\n",
      "With settings: \n",
      "{'model_path': '/Users/richardscheffer/stanfordnlp_resources/en_ewt_models/en_ewt_tokenizer.pt', 'lang': 'en', 'shorthand': 'en_ewt', 'mode': 'predict'}\n",
      "---\n",
      "Loading: lemma\n",
      "With settings: \n",
      "{'model_path': '/Users/richardscheffer/stanfordnlp_resources/en_ewt_models/en_ewt_lemmatizer.pt', 'lang': 'en', 'shorthand': 'en_ewt', 'mode': 'predict'}\n",
      "Building an attentional Seq2Seq model...\n",
      "Using a Bi-LSTM encoder\n",
      "Using soft attention for LSTM.\n",
      "Finetune all embeddings.\n",
      "[Running seq2seq lemmatizer with edit classifier]\n",
      "---\n",
      "Loading: pos\n",
      "With settings: \n",
      "{'model_path': '/Users/richardscheffer/stanfordnlp_resources/en_ewt_models/en_ewt_tagger.pt', 'pretrain_path': '/Users/richardscheffer/stanfordnlp_resources/en_ewt_models/en_ewt.pretrain.pt', 'lang': 'en', 'shorthand': 'en_ewt', 'mode': 'predict'}\n",
      "Done loading processors!\n",
      "---\n"
     ]
    }
   ],
   "source": [
    "valuable_tags = ['NN','NNP','CD']    # POS list with tags to keep\n",
    "\n",
    "# Use imports from utils/nlp.ipynb\n",
    "nlp = stanfordnlp.Pipeline(processors = \"tokenize,lemma,pos\")\n",
    "\n",
    "#text_nlp = nlp(text)\n",
    "headline_pos = nlp(headline)"
   ]
  },
  {
   "cell_type": "code",
   "execution_count": 6,
   "metadata": {},
   "outputs": [
    {
     "data": {
      "text/html": [
       "<div>\n",
       "<style scoped>\n",
       "    .dataframe tbody tr th:only-of-type {\n",
       "        vertical-align: middle;\n",
       "    }\n",
       "\n",
       "    .dataframe tbody tr th {\n",
       "        vertical-align: top;\n",
       "    }\n",
       "\n",
       "    .dataframe thead th {\n",
       "        text-align: right;\n",
       "    }\n",
       "</style>\n",
       "<table border=\"1\" class=\"dataframe\">\n",
       "  <thead>\n",
       "    <tr style=\"text-align: right;\">\n",
       "      <th></th>\n",
       "      <th>word</th>\n",
       "      <th>pos</th>\n",
       "    </tr>\n",
       "  </thead>\n",
       "  <tbody>\n",
       "    <tr>\n",
       "      <td>0</td>\n",
       "      <td>Galileo</td>\n",
       "      <td>NNP</td>\n",
       "    </tr>\n",
       "    <tr>\n",
       "      <td>1</td>\n",
       "      <td>Galilei</td>\n",
       "      <td>NNP</td>\n",
       "    </tr>\n",
       "    <tr>\n",
       "      <td>2</td>\n",
       "      <td>(</td>\n",
       "      <td>-LRB-</td>\n",
       "    </tr>\n",
       "    <tr>\n",
       "      <td>3</td>\n",
       "      <td>1564</td>\n",
       "      <td>CD</td>\n",
       "    </tr>\n",
       "    <tr>\n",
       "      <td>4</td>\n",
       "      <td>-</td>\n",
       "      <td>SYM</td>\n",
       "    </tr>\n",
       "    <tr>\n",
       "      <td>5</td>\n",
       "      <td>1642</td>\n",
       "      <td>CD</td>\n",
       "    </tr>\n",
       "    <tr>\n",
       "      <td>6</td>\n",
       "      <td>)</td>\n",
       "      <td>-RRB-</td>\n",
       "    </tr>\n",
       "  </tbody>\n",
       "</table>\n",
       "</div>"
      ],
      "text/plain": [
       "      word    pos\n",
       "0  Galileo    NNP\n",
       "1  Galilei    NNP\n",
       "2        (  -LRB-\n",
       "3     1564     CD\n",
       "4        -    SYM\n",
       "5     1642     CD\n",
       "6        )  -RRB-"
      ]
     },
     "execution_count": 6,
     "metadata": {},
     "output_type": "execute_result"
    }
   ],
   "source": [
    "pos_extract(headline_pos)"
   ]
  },
  {
   "cell_type": "code",
   "execution_count": 7,
   "metadata": {},
   "outputs": [],
   "source": [
    "pos_tags = pos_extract(headline_pos)\n",
    "\n",
    "# Collected strings from headline pos-taggs\n",
    "headline_query = create_query(pos_tags, valuable_tags) "
   ]
  },
  {
   "cell_type": "markdown",
   "metadata": {},
   "source": [
    "### Run for Summary"
   ]
  },
  {
   "cell_type": "code",
   "execution_count": 8,
   "metadata": {},
   "outputs": [
    {
     "name": "stdout",
     "output_type": "stream",
     "text": [
      "['Galileo', 'Galilei', '1564', '1642']\n",
      " \n",
      "3.183\n",
      " \n",
      "{'Galileo Galilei, born in Pisa, Italy in 1564 was a key figure in the scientiﬁc revolution in Europe about four centuries ago.': 6.924, 'Galileo proposed the concept of acceleration.': 2.693, 'He thus arrived at the law of inertia that was the starting point of the subsequent epochal work of Isaac Newton.': 1.924, \"Galileo's discoveries in astronomy were equally revolutionary.\": 2.77, 'He concluded that the Milky Way derived its luminosity because of a large number of stars not visible to the naked eye.': 2.001, 'In his masterpiece of scientiﬁc reasoning: Dialogue on the Two Chief World Systems, Galileo advocated the heliocentric theory of the solar system proposed by Copernicus, which eventually got universal acceptance.': 5.925, 'With Galileo came a turning point in the very method of scientiﬁc inquiry.': 3.155, 'Science was no longer merely observations of nature and inferences from them.': 1.847, 'Science meant devising and doing experiments to verify or refute theories.': 2.001, 'Science meant measurement of quantities and a search for mathematical relations between them.': 1.847, 'Not undeservedly, many regard Galileo as the father of modern science.': 3.924}\n",
      " \n"
     ]
    },
    {
     "data": {
      "text/plain": [
       "'Galileo Galilei, born in Pisa, Italy in 1564 was a key figure in the scientiﬁc revolution in Europe about four centuries ago. In his masterpiece of scientiﬁc reasoning: Dialogue on the Two Chief World Systems, Galileo advocated the heliocentric theory of the solar system proposed by Copernicus, which eventually got universal acceptance. Not undeservedly, many regard Galileo as the father of modern science.'"
      ]
     },
     "execution_count": 8,
     "metadata": {},
     "output_type": "execute_result"
    }
   ],
   "source": [
    "# Show query-list with result\n",
    "print(headline_query)  \n",
    "print(' ')\n",
    "\n",
    "text_sum(text, thresh=1.1, query=headline_query, should_print=True)"
   ]
  },
  {
   "cell_type": "markdown",
   "metadata": {},
   "source": [
    "### Newsroom ROUGE TEST"
   ]
  },
  {
   "cell_type": "code",
   "execution_count": 9,
   "metadata": {},
   "outputs": [],
   "source": [
    "%run utils/rouge.ipynb\n",
    "%run utils/heatmap_sum.ipynb"
   ]
  },
  {
   "cell_type": "code",
   "execution_count": 47,
   "metadata": {},
   "outputs": [],
   "source": [
    "# load 3 texts from newsroom data set\n",
    "text_7, summary_7 = load_news(7)\n",
    "text_70, summary_70 = load_news(70)\n",
    "text_150, summary_150 = load_news(150)"
   ]
  },
  {
   "cell_type": "code",
   "execution_count": 48,
   "metadata": {},
   "outputs": [
    {
     "name": "stdout",
     "output_type": "stream",
     "text": [
      "From the wreckage of Lehman Bros., a young, pedigreed banker has a new take on using the wisdom of the crowds to help users make wise investment decisions. By Mina Kimes, writer As Lehman Brothers slid towards its demise in the summer of 2008, many of the investment bank’s younger staffers found themselves with time on their…\n"
     ]
    }
   ],
   "source": [
    "print(summary_150)"
   ]
  },
  {
   "cell_type": "code",
   "execution_count": 49,
   "metadata": {},
   "outputs": [],
   "source": [
    "# load simulated headlines for current 3 texts\n",
    "query_7 = 'Inmates continue to puff even after butt ban'\n",
    "query_70 = 'Will Jenkins finally step into the field?'\n",
    "query_150 = 'The Demise of Lehman Brothers turned into wisdom of the crowds'"
   ]
  },
  {
   "cell_type": "code",
   "execution_count": null,
   "metadata": {},
   "outputs": [],
   "source": [
    "# Use def query_builder from utils/nlp to generate queries \n",
    "q_7 = query_builder(query_7)\n",
    "q_70 = query_builder(query_70)\n",
    "q_150 = query_builder(query_150)"
   ]
  },
  {
   "cell_type": "code",
   "execution_count": 52,
   "metadata": {},
   "outputs": [
    {
     "name": "stdout",
     "output_type": "stream",
     "text": [
      "['butt', 'ban']\n",
      "['Jenkins', 'field']\n",
      "['Demise', 'Lehman', 'wisdom']\n"
     ]
    }
   ],
   "source": [
    "print(q_7)\n",
    "print(q_70)\n",
    "print(q_150)"
   ]
  },
  {
   "cell_type": "code",
   "execution_count": 53,
   "metadata": {},
   "outputs": [],
   "source": [
    "# Generate our NLTK TextSum summaries\n",
    "comp_sum_7 = text_sum(text_7, thresh=1.1, query=q_7)\n",
    "comp_sum_70 = text_sum(text_70, thresh=1.1, query=q_70)\n",
    "comp_sum_150 = text_sum(text_150, thresh=1.1, query=q_150)"
   ]
  },
  {
   "cell_type": "code",
   "execution_count": 54,
   "metadata": {},
   "outputs": [
    {
     "data": {
      "text/plain": [
       "<Figure size 432x288 with 0 Axes>"
      ]
     },
     "metadata": {},
     "output_type": "display_data"
    },
    {
     "data": {
      "image/png": "[encoded data removed]",
      "text/plain": [
       "<Figure size 432x288 with 2 Axes>"
      ]
     },
     "metadata": {
      "needs_background": "light"
     },
     "output_type": "display_data"
    }
   ],
   "source": [
    "rouge_heatmap(comp_sum_7, summary_7)\n",
    "plt.title('TextSum - Newsroom 7')\n",
    "plt.show()"
   ]
  },
  {
   "cell_type": "code",
   "execution_count": 55,
   "metadata": {},
   "outputs": [
    {
     "data": {
      "text/plain": [
       "<Figure size 432x288 with 0 Axes>"
      ]
     },
     "metadata": {},
     "output_type": "display_data"
    },
    {
     "data": {
      "image/png": "[encoded data removed]",
      "text/plain": [
       "<Figure size 432x288 with 2 Axes>"
      ]
     },
     "metadata": {
      "needs_background": "light"
     },
     "output_type": "display_data"
    }
   ],
   "source": [
    "rouge_heatmap(comp_sum_70, summary_70)\n",
    "plt.title('TextSum - Newsroom 70')\n",
    "plt.show()"
   ]
  },
  {
   "cell_type": "code",
   "execution_count": 56,
   "metadata": {},
   "outputs": [
    {
     "data": {
      "text/plain": [
       "<Figure size 432x288 with 0 Axes>"
      ]
     },
     "metadata": {},
     "output_type": "display_data"
    },
    {
     "data": {
      "image/png": "[encoded data removed]",
      "text/plain": [
       "<Figure size 432x288 with 2 Axes>"
      ]
     },
     "metadata": {
      "needs_background": "light"
     },
     "output_type": "display_data"
    }
   ],
   "source": [
    "rouge_heatmap(comp_sum_150, summary_150)\n",
    "plt.title('TextSum - Newsroom 150')\n",
    "plt.show()"
   ]
  }
 ],
 "metadata": {
  "kernelspec": {
   "display_name": "Python 3",
   "language": "python",
   "name": "python3"
  },
  "language_info": {
   "codemirror_mode": {
    "name": "ipython",
    "version": 3
   },
   "file_extension": ".py",
   "mimetype": "text/x-python",
   "name": "python",
   "nbconvert_exporter": "python",
   "pygments_lexer": "ipython3",
   "version": "3.7.4"
  }
 },
 "nbformat": 4,
 "nbformat_minor": 4
}
