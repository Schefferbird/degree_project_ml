{
 "cells": [
  {
   "cell_type": "code",
   "execution_count": 1,
   "metadata": {},
   "outputs": [],
   "source": [
    "#!pip install rouge\n",
    "from rouge import Rouge\n",
    "%run utils/newsroom_dataset.ipynb"
   ]
  },
  {
   "cell_type": "code",
   "execution_count": 2,
   "metadata": {},
   "outputs": [],
   "source": [
    "data = load_newsroom()\n",
    "\n",
    "def load_news(index):\n",
    "    \n",
    "    return data[index]['text'], data[index]['summary']"
   ]
  },
  {
   "cell_type": "code",
   "execution_count": 3,
   "metadata": {},
   "outputs": [],
   "source": [
    "def convert_df(curr_df):\n",
    "    data = {'F1-score':[curr_df['rouge-1'][0],curr_df['rouge-2'][0],curr_df['rouge-l'][0]],\n",
    "            'Precision':[curr_df['rouge-1'][1],curr_df['rouge-2'][1],curr_df['rouge-l'][1]],\n",
    "            'Recall':[curr_df['rouge-1'][2],curr_df['rouge-2'][2],curr_df['rouge-l'][2]]  \n",
    "           }\n",
    "    return pd.DataFrame.from_dict(data, orient='index', columns=['ROUGE-1', 'ROUGE-2', 'ROUGE-l'])"
   ]
  },
  {
   "cell_type": "code",
   "execution_count": null,
   "metadata": {},
   "outputs": [],
   "source": [
    "rouge = Rouge()\n",
    "\n",
    "def calc_rouge(comp, origin):\n",
    "    \n",
    "    scores = rouge.get_scores(comp, origin, avg=True)\n",
    "\n",
    "    df_scores = pd.DataFrame(scores)\n",
    "\n",
    "    df = convert_df(df_scores)\n",
    "    \n",
    "    return df\n"
   ]
  },
  {
   "cell_type": "markdown",
   "metadata": {},
   "source": [
    "### Load functions heatmap and prepare for ROUGE test"
   ]
  },
  {
   "cell_type": "code",
   "execution_count": null,
   "metadata": {},
   "outputs": [],
   "source": [
    "# Make utils/heatmap available\n",
    "%run utils/heatmap_sum.ipynb"
   ]
  },
  {
   "cell_type": "code",
   "execution_count": null,
   "metadata": {},
   "outputs": [],
   "source": [
    "def rouge_heatmap(comp, golden):\n",
    "    # Use def from rouge.ipynb to calculate ROUGE into a dataframe\n",
    "    df_rouge = calc_rouge(comp, golden)\n",
    "\n",
    "    # Use def from utils/heatmap_sum to build plot\n",
    "    plot_matrix(df_rouge)"
   ]
  }
 ],
 "metadata": {
  "kernelspec": {
   "display_name": "Python 3",
   "language": "python",
   "name": "python3"
  },
  "language_info": {
   "codemirror_mode": {
    "name": "ipython",
    "version": 3
   },
   "file_extension": ".py",
   "mimetype": "text/x-python",
   "name": "python",
   "nbconvert_exporter": "python",
   "pygments_lexer": "ipython3",
   "version": "3.7.4"
  }
 },
 "nbformat": 4,
 "nbformat_minor": 4
}
